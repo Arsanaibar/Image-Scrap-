{
  "nbformat": 4,
  "nbformat_minor": 0,
  "metadata": {
    "colab": {
      "provenance": []
    },
    "kernelspec": {
      "name": "python3",
      "display_name": "Python 3"
    },
    "language_info": {
      "name": "python"
    }
  },
  "cells": [
    {
      "cell_type": "code",
      "execution_count": null,
      "metadata": {
        "colab": {
          "base_uri": "https://localhost:8080/"
        },
        "id": "aB3NeDCy-Yn2",
        "outputId": "575ffae2-39c2-427e-812e-a1a653262c68"
      },
      "outputs": [
        {
          "output_type": "stream",
          "name": "stdout",
          "text": [
            "Collecting bing-image-downloader\n",
            "  Downloading bing_image_downloader-1.1.2-py3-none-any.whl (5.9 kB)\n",
            "Installing collected packages: bing-image-downloader\n",
            "Successfully installed bing-image-downloader-1.1.2\n"
          ]
        }
      ],
      "source": [
        "!pip install bing-image-downloader"
      ]
    },
    {
      "cell_type": "code",
      "source": [
        "!mkdir dataset_latolato"
      ],
      "metadata": {
        "id": "9pZ2_RgF-uC0"
      },
      "execution_count": null,
      "outputs": []
    },
    {
      "cell_type": "code",
      "source": [
        "from bing_image_downloader import downloader\n",
        "downloader.download(\"mainan lato lato\", limit=15, output_dir='dataset_latolato')"
      ],
      "metadata": {
        "colab": {
          "base_uri": "https://localhost:8080/"
        },
        "id": "s9watu90_Fv5",
        "outputId": "692ece17-1ac8-4369-8de9-13a16f2d37c0"
      },
      "execution_count": null,
      "outputs": [
        {
          "output_type": "stream",
          "name": "stdout",
          "text": [
            "[%] Downloading Images to /content/dataset_latolato/mainan lato lato\n",
            "\n",
            "\n",
            "[!!]Indexing page: 1\n",
            "\n",
            "[%] Indexed 15 Images on Page 1.\n",
            "\n",
            "===============================================\n",
            "\n",
            "[%] Downloading Image #1 from https://assets.pikiran-rakyat.com/crop/0x0:0x0/x/photo/2022/12/16/4048379154.png\n",
            "[%] File Downloaded !\n",
            "\n",
            "[%] Downloading Image #2 from https://thumb.viva.co.id/media/frontend/thumbs3/2022/12/28/63abb59d0a2c7-mainan-lato-lato_663_372.jpg\n",
            "[%] File Downloaded !\n",
            "\n",
            "[%] Downloading Image #3 from https://img.herstory.co.id/articles/archive_20230105/lato-lato-20230105-115306-thumb.jpg\n",
            "[%] File Downloaded !\n",
            "\n",
            "[%] Downloading Image #4 from https://mmc.tirto.id/image/otf/1024x535/2022/12/29/lato-lato-istock.jpg\n",
            "[%] File Downloaded !\n",
            "\n",
            "[%] Downloading Image #5 from https://cdn.idntimes.com/content-images/post/20221223/319122914-208550904902895-191128397849559653-n-3e51960339a49eb5a3023a95d6d3ffca.jpg\n",
            "[%] File Downloaded !\n",
            "\n",
            "[%] Downloading Image #6 from https://assets.pikiran-rakyat.com/crop/0x0:0x0/x/photo/2023/01/04/1524609014.jpg\n",
            "[%] File Downloaded !\n",
            "\n",
            "[%] Downloading Image #7 from https://thumb.viva.co.id/media/frontend/thumbs3/2022/12/28/63abb5c21c9ed-mainan-lato-lato_665_374.jpg\n",
            "[%] File Downloaded !\n",
            "\n",
            "[%] Downloading Image #8 from https://media.suara.com/suara-partners/indotnesia/thumbs/653x367/2022/12/28/1-lato-lato-ig.jpg\n",
            "[%] File Downloaded !\n",
            "\n",
            "[%] Downloading Image #9 from https://i2.wp.com/is3.cloudhost.id/img-kbrt/2022/12/Mainan-lato-lato-yang-kembali-populer-696x392.jpg\n",
            "[%] File Downloaded !\n",
            "\n",
            "[%] Downloading Image #10 from https://www.konteks.co.id/wp-content/uploads/2023/01/manfaat-lato-lato.jpg\n",
            "[%] File Downloaded !\n",
            "\n",
            "[%] Downloading Image #11 from https://t-2.tstatic.net/jogja/foto/bank/images/Ilustrasi-Mainan-Lato-lato.jpg\n",
            "[%] File Downloaded !\n",
            "\n",
            "[%] Downloading Image #12 from https://beritajatim.com/wp-content/uploads/2022/12/lato.jpg\n",
            "[%] File Downloaded !\n",
            "\n",
            "[%] Downloading Image #13 from https://blogger.googleusercontent.com/img/b/R29vZ2xl/AVvXsEgyQz-Dlu0Ed_JdTkbw2XJj1JME32FQ_DcAlqJnUr4dVR0OGfNuyzZ2RhgFQTh1Dq-SSBm8jygaQthAN5rJfTpBgFgtPPf1OkaIkG0lWhNuYHJ9_c8d0ZI5hJBT6WlhD6cWr1nuDP9nOGffe7O81PYGIDN0GsrlBWAugECyni0zQAr5465Byuq6Loz5oQ/s1000/latto-latto-2.jpg\n",
            "[%] File Downloaded !\n",
            "\n",
            "[%] Downloading Image #14 from https://down-my.img.susercontent.com/file/my-11134207-23010-ll00bzuk2xmv0f\n",
            "[%] File Downloaded !\n",
            "\n",
            "[%] Downloading Image #15 from https://cdn2.tstatic.net/style/foto/bank/images/mainan-lato-lato.jpg\n",
            "[!] Issue getting: https://cdn2.tstatic.net/style/foto/bank/images/mainan-lato-lato.jpg\n",
            "[!] Error:: <urlopen error [Errno -2] Name or service not known>\n",
            "\n",
            "\n",
            "[!!]Indexing page: 2\n",
            "\n",
            "[%] Indexed 35 Images on Page 2.\n",
            "\n",
            "===============================================\n",
            "\n",
            "[%] Downloading Image #15 from https://assets.pikiran-rakyat.com/crop/0x0:0x0/x/photo/2022/12/30/4142463156.jpg\n",
            "[%] File Downloaded !\n",
            "\n",
            "\n",
            "\n",
            "[%] Done. Downloaded 15 images.\n"
          ]
        }
      ]
    },
    {
      "cell_type": "code",
      "source": [],
      "metadata": {
        "id": "3LYy2FFQ_3LC"
      },
      "execution_count": null,
      "outputs": []
    }
  ]
}