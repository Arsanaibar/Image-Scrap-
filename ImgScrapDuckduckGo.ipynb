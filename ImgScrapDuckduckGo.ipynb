{
  "cells": [
    {
      "cell_type": "markdown",
      "metadata": {
        "id": "ONIqIEu7VyT4"
      },
      "source": [
        "# DuckDuckGo Image Scraper\n",
        "\n",
        "This was originally an image scraper notebook for creating deep learning datasets.\n",
        "\n",
        "It has since been turned into an installable library and is much easier to use as you can simply drop a few lines of code into your own notebook as you're experimenting.\n",
        "\n",
        "This notebook now shows you how to use the library.\n",
        "\n",
        "Docs are at [joedockrill.github.io/jmd_imagescraper/](https://joedockrill.github.io/jmd_imagescraper/)\n",
        "\n",
        "Hugs & kisses, Joe Dockrill."
      ]
    },
    {
      "cell_type": "markdown",
      "metadata": {
        "id": "tTCCj9TS0WVY"
      },
      "source": [
        "## Install\n",
        "\n"
      ]
    },
    {
      "cell_type": "code",
      "execution_count": null,
      "metadata": {
        "colab": {
          "base_uri": "https://localhost:8080/"
        },
        "id": "EYwHbopFG63A",
        "outputId": "0ff35bc7-43c4-4db4-fffc-da9cac280d76"
      },
      "outputs": [
        {
          "name": "stdout",
          "output_type": "stream",
          "text": [
            "  Preparing metadata (setup.py) ... \u001b[?25l\u001b[?25hdone\n",
            "\u001b[2K     \u001b[90m━━━━━━━━━━━━━━━━━━━━━━━━━━━━━━━━━━━━━━━━\u001b[0m \u001b[32m1.6/1.6 MB\u001b[0m \u001b[31m8.8 MB/s\u001b[0m eta \u001b[36m0:00:00\u001b[0m\n",
            "\u001b[?25h  Building wheel for bs4 (setup.py) ... \u001b[?25l\u001b[?25hdone\n"
          ]
        }
      ],
      "source": [
        "!pip install -q jmd_imagescraper"
      ]
    },
    {
      "cell_type": "markdown",
      "metadata": {
        "id": "IMbb_349LcgA"
      },
      "source": [
        "## Download images"
      ]
    },
    {
      "cell_type": "code",
      "execution_count": null,
      "metadata": {
        "colab": {
          "background_save": true,
          "base_uri": "https://localhost:8080/",
          "height": 72
        },
        "id": "ZpLinvRTLjCk",
        "outputId": "a96a3907-b0cc-433b-f36f-9547b55ce50a"
      },
      "outputs": [
        {
          "name": "stdout",
          "output_type": "stream",
          "text": [
            "Duckduckgo search: slime\n",
            "Downloading results into /content/images/mainan slime\n"
          ]
        },
        {
          "data": {
            "text/html": [
              "\n",
              "<style>\n",
              "    /* Turns off some styling */\n",
              "    progress {\n",
              "        /* gets rid of default border in Firefox and Opera. */\n",
              "        border: none;\n",
              "        /* Needs to be in here for Safari polyfill so background images work as expected. */\n",
              "        background-size: auto;\n",
              "    }\n",
              "    progress:not([value]), progress:not([value])::-webkit-progress-bar {\n",
              "        background: repeating-linear-gradient(45deg, #7e7e7e, #7e7e7e 10px, #5c5c5c 10px, #5c5c5c 20px);\n",
              "    }\n",
              "    .progress-bar-interrupted, .progress-bar-interrupted::-webkit-progress-bar {\n",
              "        background: #F44336;\n",
              "    }\n",
              "</style>\n"
            ],
            "text/plain": [
              "<IPython.core.display.HTML object>"
            ]
          },
          "metadata": {},
          "output_type": "display_data"
        },
        {
          "data": {
            "text/html": [
              "\n",
              "    <div>\n",
              "      <progress value='315' class='' max='315' style='width:300px; height:20px; vertical-align: middle;'></progress>\n",
              "      100.00% [315/315 00:48&lt;00:00 Images downloaded]\n",
              "    </div>\n",
              "    "
            ],
            "text/plain": [
              "<IPython.core.display.HTML object>"
            ]
          },
          "metadata": {},
          "output_type": "display_data"
        },
        {
          "data": {
            "text/plain": [
              "[PosixPath('/content/images/mainan slime/001_bdf51668.jpg'),\n",
              " PosixPath('/content/images/mainan slime/002_d2bc6735.jpg'),\n",
              " PosixPath('/content/images/mainan slime/003_ea0a8125.jpg'),\n",
              " PosixPath('/content/images/mainan slime/004_41799adb.jpg'),\n",
              " PosixPath('/content/images/mainan slime/005_e055c532.jpg'),\n",
              " PosixPath('/content/images/mainan slime/006_9bcfb56b.jpg'),\n",
              " PosixPath('/content/images/mainan slime/007_6a3f9eb4.jpg'),\n",
              " PosixPath('/content/images/mainan slime/008_03a98198.jpg'),\n",
              " PosixPath('/content/images/mainan slime/009_ef1f0359.jpg'),\n",
              " PosixPath('/content/images/mainan slime/010_10a51c64.jpg'),\n",
              " PosixPath('/content/images/mainan slime/011_bccf5d54.jpg'),\n",
              " PosixPath('/content/images/mainan slime/012_96aded17.jpg'),\n",
              " PosixPath('/content/images/mainan slime/013_9383e719.jpg'),\n",
              " PosixPath('/content/images/mainan slime/014_3965c5d4.jpg'),\n",
              " PosixPath('/content/images/mainan slime/015_742deddd.jpg'),\n",
              " PosixPath('/content/images/mainan slime/016_85afa0c5.jpg'),\n",
              " PosixPath('/content/images/mainan slime/017_c6723c66.jpg'),\n",
              " PosixPath('/content/images/mainan slime/018_0e7b99ad.jpg'),\n",
              " PosixPath('/content/images/mainan slime/019_dc7c56c1.jpg'),\n",
              " PosixPath('/content/images/mainan slime/020_79de9b45.jpg'),\n",
              " PosixPath('/content/images/mainan slime/021_729b8377.jpg'),\n",
              " PosixPath('/content/images/mainan slime/022_6bb150a5.jpg'),\n",
              " PosixPath('/content/images/mainan slime/023_da4d107a.jpg'),\n",
              " PosixPath('/content/images/mainan slime/024_81ceec68.jpg'),\n",
              " PosixPath('/content/images/mainan slime/025_9ac67441.jpg'),\n",
              " PosixPath('/content/images/mainan slime/026_21ab9638.jpg'),\n",
              " PosixPath('/content/images/mainan slime/027_7f3fb0f3.jpg'),\n",
              " PosixPath('/content/images/mainan slime/028_8430a3aa.jpg'),\n",
              " PosixPath('/content/images/mainan slime/029_52db4415.jpg'),\n",
              " PosixPath('/content/images/mainan slime/030_8243a9b8.jpg'),\n",
              " PosixPath('/content/images/mainan slime/031_7144ab53.jpg'),\n",
              " PosixPath('/content/images/mainan slime/032_abeb4992.jpg'),\n",
              " PosixPath('/content/images/mainan slime/033_8e39aea7.jpg'),\n",
              " PosixPath('/content/images/mainan slime/034_580e7592.jpg'),\n",
              " PosixPath('/content/images/mainan slime/035_061a6d34.jpg'),\n",
              " PosixPath('/content/images/mainan slime/036_1912da11.jpg'),\n",
              " PosixPath('/content/images/mainan slime/037_2f6d6897.jpg'),\n",
              " PosixPath('/content/images/mainan slime/038_1d0a5c09.jpg'),\n",
              " PosixPath('/content/images/mainan slime/039_334d3c1d.jpg'),\n",
              " PosixPath('/content/images/mainan slime/040_8f9fa955.jpg'),\n",
              " PosixPath('/content/images/mainan slime/041_9024dcd4.jpg'),\n",
              " PosixPath('/content/images/mainan slime/042_30e2e7fc.jpg'),\n",
              " PosixPath('/content/images/mainan slime/043_b86b2bad.jpg'),\n",
              " PosixPath('/content/images/mainan slime/044_a3729c41.jpg'),\n",
              " PosixPath('/content/images/mainan slime/045_be75c7d5.jpg'),\n",
              " PosixPath('/content/images/mainan slime/046_ce73759d.jpg'),\n",
              " PosixPath('/content/images/mainan slime/047_715ffc73.jpg'),\n",
              " PosixPath('/content/images/mainan slime/048_c142e70e.jpg'),\n",
              " PosixPath('/content/images/mainan slime/049_a4bb5e6a.jpg'),\n",
              " PosixPath('/content/images/mainan slime/050_45d87a63.jpg'),\n",
              " PosixPath('/content/images/mainan slime/051_2789b497.jpg'),\n",
              " PosixPath('/content/images/mainan slime/052_0c73cd53.jpg'),\n",
              " PosixPath('/content/images/mainan slime/053_5ae72dec.jpg'),\n",
              " PosixPath('/content/images/mainan slime/054_3efecbca.jpg'),\n",
              " PosixPath('/content/images/mainan slime/055_532ba18e.jpg'),\n",
              " PosixPath('/content/images/mainan slime/056_9409e716.jpg'),\n",
              " PosixPath('/content/images/mainan slime/057_d108a78e.jpg'),\n",
              " PosixPath('/content/images/mainan slime/058_a7a6f872.jpg'),\n",
              " PosixPath('/content/images/mainan slime/059_688965cb.jpg'),\n",
              " PosixPath('/content/images/mainan slime/060_2140e0c4.jpg'),\n",
              " PosixPath('/content/images/mainan slime/061_85834f22.jpg'),\n",
              " PosixPath('/content/images/mainan slime/062_f5442122.jpg'),\n",
              " PosixPath('/content/images/mainan slime/063_fb243eab.jpg'),\n",
              " PosixPath('/content/images/mainan slime/064_21e0a43c.jpg'),\n",
              " PosixPath('/content/images/mainan slime/065_16a906ec.jpg'),\n",
              " PosixPath('/content/images/mainan slime/066_6c8babd0.jpg'),\n",
              " PosixPath('/content/images/mainan slime/067_84b71416.jpg'),\n",
              " PosixPath('/content/images/mainan slime/068_158dcdd2.jpg'),\n",
              " PosixPath('/content/images/mainan slime/069_5e0e2fb8.jpg'),\n",
              " PosixPath('/content/images/mainan slime/070_9f7a7c1d.jpg'),\n",
              " PosixPath('/content/images/mainan slime/071_180c2f92.jpg'),\n",
              " PosixPath('/content/images/mainan slime/072_ed49a934.jpg'),\n",
              " PosixPath('/content/images/mainan slime/073_b3afdfe7.jpg'),\n",
              " PosixPath('/content/images/mainan slime/074_6266dc82.jpg'),\n",
              " PosixPath('/content/images/mainan slime/075_173b5afc.jpg'),\n",
              " PosixPath('/content/images/mainan slime/076_30992e08.jpg'),\n",
              " PosixPath('/content/images/mainan slime/077_ec14d542.jpg'),\n",
              " PosixPath('/content/images/mainan slime/078_ac8cee81.jpg'),\n",
              " PosixPath('/content/images/mainan slime/079_56e324bd.jpg'),\n",
              " PosixPath('/content/images/mainan slime/080_38b43569.jpg'),\n",
              " PosixPath('/content/images/mainan slime/081_141e116d.jpg'),\n",
              " PosixPath('/content/images/mainan slime/082_acfc448a.jpg'),\n",
              " PosixPath('/content/images/mainan slime/083_829c9c15.jpg'),\n",
              " PosixPath('/content/images/mainan slime/084_d8d85891.jpg'),\n",
              " PosixPath('/content/images/mainan slime/085_728f45d3.jpg'),\n",
              " PosixPath('/content/images/mainan slime/086_84717218.jpg'),\n",
              " PosixPath('/content/images/mainan slime/087_654e9639.jpg'),\n",
              " PosixPath('/content/images/mainan slime/088_94154fa5.jpg'),\n",
              " PosixPath('/content/images/mainan slime/089_362d7cca.jpg'),\n",
              " PosixPath('/content/images/mainan slime/090_acc49350.jpg'),\n",
              " PosixPath('/content/images/mainan slime/091_a93f51ab.jpg'),\n",
              " PosixPath('/content/images/mainan slime/092_f1563209.jpg'),\n",
              " PosixPath('/content/images/mainan slime/093_e9e5d8bc.jpg'),\n",
              " PosixPath('/content/images/mainan slime/094_7ab1f06a.jpg'),\n",
              " PosixPath('/content/images/mainan slime/095_af24f253.jpg'),\n",
              " PosixPath('/content/images/mainan slime/096_842e240a.jpg'),\n",
              " PosixPath('/content/images/mainan slime/097_42bb8fad.jpg'),\n",
              " PosixPath('/content/images/mainan slime/098_7a23d821.jpg'),\n",
              " PosixPath('/content/images/mainan slime/099_69681efc.jpg'),\n",
              " PosixPath('/content/images/mainan slime/100_4a971639.jpg'),\n",
              " PosixPath('/content/images/mainan slime/101_13775087.jpg'),\n",
              " PosixPath('/content/images/mainan slime/102_e31cf008.jpg'),\n",
              " PosixPath('/content/images/mainan slime/103_6a045343.jpg'),\n",
              " PosixPath('/content/images/mainan slime/104_b78b9d86.jpg'),\n",
              " PosixPath('/content/images/mainan slime/105_e83a9ae3.jpg'),\n",
              " PosixPath('/content/images/mainan slime/106_c8bd68d7.jpg'),\n",
              " PosixPath('/content/images/mainan slime/107_dbaacbf8.jpg'),\n",
              " PosixPath('/content/images/mainan slime/108_e5073980.jpg'),\n",
              " PosixPath('/content/images/mainan slime/109_c6e376fb.jpg'),\n",
              " PosixPath('/content/images/mainan slime/110_05728ba3.jpg'),\n",
              " PosixPath('/content/images/mainan slime/111_865b9355.jpg'),\n",
              " PosixPath('/content/images/mainan slime/112_9e16072e.jpg'),\n",
              " PosixPath('/content/images/mainan slime/113_2d0de325.jpg'),\n",
              " PosixPath('/content/images/mainan slime/114_fe876f34.jpg'),\n",
              " PosixPath('/content/images/mainan slime/115_e378efeb.jpg'),\n",
              " PosixPath('/content/images/mainan slime/116_3fea7107.jpg'),\n",
              " PosixPath('/content/images/mainan slime/117_763feb77.jpg'),\n",
              " PosixPath('/content/images/mainan slime/118_a6dba527.jpg'),\n",
              " PosixPath('/content/images/mainan slime/119_55584648.jpg'),\n",
              " PosixPath('/content/images/mainan slime/120_b886bf80.jpg'),\n",
              " PosixPath('/content/images/mainan slime/121_87ad2592.jpg'),\n",
              " PosixPath('/content/images/mainan slime/122_a870b826.jpg'),\n",
              " PosixPath('/content/images/mainan slime/123_d8d2f938.jpg'),\n",
              " PosixPath('/content/images/mainan slime/124_0d0bc190.jpg'),\n",
              " PosixPath('/content/images/mainan slime/125_bf860793.jpg'),\n",
              " PosixPath('/content/images/mainan slime/126_dad8bcda.jpg'),\n",
              " PosixPath('/content/images/mainan slime/127_11cbbd29.jpg'),\n",
              " PosixPath('/content/images/mainan slime/128_e55e320c.jpg'),\n",
              " PosixPath('/content/images/mainan slime/129_0f940727.jpg'),\n",
              " PosixPath('/content/images/mainan slime/130_61620d7c.jpg'),\n",
              " PosixPath('/content/images/mainan slime/131_fcbf6d93.jpg'),\n",
              " PosixPath('/content/images/mainan slime/132_d4c9c84b.jpg'),\n",
              " PosixPath('/content/images/mainan slime/133_597c9394.jpg'),\n",
              " PosixPath('/content/images/mainan slime/134_22e79125.jpg'),\n",
              " PosixPath('/content/images/mainan slime/135_f66c876f.jpg'),\n",
              " PosixPath('/content/images/mainan slime/136_9d0d47c4.jpg'),\n",
              " PosixPath('/content/images/mainan slime/137_e7269233.jpg'),\n",
              " PosixPath('/content/images/mainan slime/138_8c9a11ab.jpg'),\n",
              " PosixPath('/content/images/mainan slime/139_d5461d4f.jpg'),\n",
              " PosixPath('/content/images/mainan slime/140_39e10cb7.jpg'),\n",
              " PosixPath('/content/images/mainan slime/141_6f01421f.jpg'),\n",
              " PosixPath('/content/images/mainan slime/142_53a7f1e3.jpg'),\n",
              " PosixPath('/content/images/mainan slime/143_38ffecb9.jpg'),\n",
              " PosixPath('/content/images/mainan slime/144_bb0d7233.jpg'),\n",
              " PosixPath('/content/images/mainan slime/145_07e7b44f.jpg'),\n",
              " PosixPath('/content/images/mainan slime/146_baf73b1d.jpg'),\n",
              " PosixPath('/content/images/mainan slime/147_6a4599ed.jpg'),\n",
              " PosixPath('/content/images/mainan slime/148_c907a6f1.jpg'),\n",
              " PosixPath('/content/images/mainan slime/149_f58ad46b.jpg'),\n",
              " PosixPath('/content/images/mainan slime/150_f1122b05.jpg'),\n",
              " PosixPath('/content/images/mainan slime/151_dc18699e.jpg'),\n",
              " PosixPath('/content/images/mainan slime/152_feca5447.jpg'),\n",
              " PosixPath('/content/images/mainan slime/153_cb72a049.jpg'),\n",
              " PosixPath('/content/images/mainan slime/154_a4b5e4eb.jpg'),\n",
              " PosixPath('/content/images/mainan slime/155_16f0c5f5.jpg'),\n",
              " PosixPath('/content/images/mainan slime/156_1568c8fe.jpg'),\n",
              " PosixPath('/content/images/mainan slime/157_183030b2.jpg'),\n",
              " PosixPath('/content/images/mainan slime/158_25e58404.jpg'),\n",
              " PosixPath('/content/images/mainan slime/159_00b5d9aa.jpg'),\n",
              " PosixPath('/content/images/mainan slime/160_b70d6fb5.jpg'),\n",
              " PosixPath('/content/images/mainan slime/161_bd741ed3.jpg'),\n",
              " PosixPath('/content/images/mainan slime/162_59dddb78.jpg'),\n",
              " PosixPath('/content/images/mainan slime/163_b3d6be55.jpg'),\n",
              " PosixPath('/content/images/mainan slime/164_05e1a1b7.jpg'),\n",
              " PosixPath('/content/images/mainan slime/165_fb241521.jpg'),\n",
              " PosixPath('/content/images/mainan slime/166_4c76f871.jpg'),\n",
              " PosixPath('/content/images/mainan slime/167_bd777e94.jpg'),\n",
              " PosixPath('/content/images/mainan slime/168_8495cee1.jpg'),\n",
              " PosixPath('/content/images/mainan slime/169_d2553aba.jpg'),\n",
              " PosixPath('/content/images/mainan slime/170_0340001d.jpg'),\n",
              " PosixPath('/content/images/mainan slime/171_e2ad2cc6.jpg'),\n",
              " PosixPath('/content/images/mainan slime/172_8f6f46da.jpg'),\n",
              " PosixPath('/content/images/mainan slime/173_1575464c.jpg'),\n",
              " PosixPath('/content/images/mainan slime/174_03ecc0d3.jpg'),\n",
              " PosixPath('/content/images/mainan slime/175_8d22c51f.jpg'),\n",
              " PosixPath('/content/images/mainan slime/176_450a19d8.jpg'),\n",
              " PosixPath('/content/images/mainan slime/177_a6645798.jpg'),\n",
              " PosixPath('/content/images/mainan slime/178_5c1cfbd1.jpg'),\n",
              " PosixPath('/content/images/mainan slime/179_26f9d6bb.jpg'),\n",
              " PosixPath('/content/images/mainan slime/180_7e853c5d.jpg'),\n",
              " PosixPath('/content/images/mainan slime/181_a52ef63f.jpg'),\n",
              " PosixPath('/content/images/mainan slime/182_83528001.jpg'),\n",
              " PosixPath('/content/images/mainan slime/183_2c4f3f1e.jpg'),\n",
              " PosixPath('/content/images/mainan slime/184_515356c1.jpg'),\n",
              " PosixPath('/content/images/mainan slime/185_f2b08e89.jpg'),\n",
              " PosixPath('/content/images/mainan slime/186_5be02c23.jpg'),\n",
              " PosixPath('/content/images/mainan slime/187_19efe9bc.jpg'),\n",
              " PosixPath('/content/images/mainan slime/188_e1b31b99.jpg'),\n",
              " PosixPath('/content/images/mainan slime/189_08077fcc.jpg'),\n",
              " PosixPath('/content/images/mainan slime/190_7a36f776.jpg'),\n",
              " PosixPath('/content/images/mainan slime/191_2ee5c533.jpg'),\n",
              " PosixPath('/content/images/mainan slime/192_676d1d86.jpg'),\n",
              " PosixPath('/content/images/mainan slime/193_3f6daf9c.jpg'),\n",
              " PosixPath('/content/images/mainan slime/194_7ca7aecf.jpg'),\n",
              " PosixPath('/content/images/mainan slime/195_47cdc9ee.jpg'),\n",
              " PosixPath('/content/images/mainan slime/196_65d09650.jpg'),\n",
              " PosixPath('/content/images/mainan slime/197_76c29c87.jpg'),\n",
              " PosixPath('/content/images/mainan slime/198_9a35ecfe.jpg'),\n",
              " PosixPath('/content/images/mainan slime/199_4854f766.jpg'),\n",
              " PosixPath('/content/images/mainan slime/200_543a86b5.jpg'),\n",
              " PosixPath('/content/images/mainan slime/201_e3e16edf.jpg'),\n",
              " PosixPath('/content/images/mainan slime/202_14eb5498.jpg'),\n",
              " PosixPath('/content/images/mainan slime/203_210bde5c.jpg'),\n",
              " PosixPath('/content/images/mainan slime/204_df81cf9f.jpg'),\n",
              " PosixPath('/content/images/mainan slime/205_5142e47d.jpg'),\n",
              " PosixPath('/content/images/mainan slime/206_57f0a23f.jpg'),\n",
              " PosixPath('/content/images/mainan slime/207_210229e1.jpg'),\n",
              " PosixPath('/content/images/mainan slime/208_13569ad9.jpg'),\n",
              " PosixPath('/content/images/mainan slime/209_e7d7d514.jpg'),\n",
              " PosixPath('/content/images/mainan slime/210_b0d86994.jpg'),\n",
              " PosixPath('/content/images/mainan slime/211_22f14184.jpg'),\n",
              " PosixPath('/content/images/mainan slime/212_0e31ff2b.jpg'),\n",
              " PosixPath('/content/images/mainan slime/213_0b8e04be.jpg'),\n",
              " PosixPath('/content/images/mainan slime/214_707f14dd.jpg'),\n",
              " PosixPath('/content/images/mainan slime/215_3cba3396.jpg'),\n",
              " PosixPath('/content/images/mainan slime/216_33c8cc18.jpg'),\n",
              " PosixPath('/content/images/mainan slime/217_ea990920.jpg'),\n",
              " PosixPath('/content/images/mainan slime/218_5374de5e.jpg'),\n",
              " PosixPath('/content/images/mainan slime/219_cee9d376.jpg'),\n",
              " PosixPath('/content/images/mainan slime/220_9344996a.jpg'),\n",
              " PosixPath('/content/images/mainan slime/221_e7a475b7.jpg'),\n",
              " PosixPath('/content/images/mainan slime/222_9914dd6d.jpg'),\n",
              " PosixPath('/content/images/mainan slime/223_d8c93208.jpg'),\n",
              " PosixPath('/content/images/mainan slime/224_5b28d6d7.jpg'),\n",
              " PosixPath('/content/images/mainan slime/225_aa2ee462.jpg'),\n",
              " PosixPath('/content/images/mainan slime/226_9b9ece31.jpg'),\n",
              " PosixPath('/content/images/mainan slime/227_45249b1c.jpg'),\n",
              " PosixPath('/content/images/mainan slime/228_e9c0b7da.jpg'),\n",
              " PosixPath('/content/images/mainan slime/229_7c97ca42.jpg'),\n",
              " PosixPath('/content/images/mainan slime/230_4eb34447.jpg'),\n",
              " PosixPath('/content/images/mainan slime/231_bfec5a6d.jpg'),\n",
              " PosixPath('/content/images/mainan slime/232_addd7f4a.jpg'),\n",
              " PosixPath('/content/images/mainan slime/233_535b7308.jpg'),\n",
              " PosixPath('/content/images/mainan slime/234_fff03761.jpg'),\n",
              " PosixPath('/content/images/mainan slime/235_36a811a5.jpg'),\n",
              " PosixPath('/content/images/mainan slime/236_08819e48.jpg'),\n",
              " PosixPath('/content/images/mainan slime/237_3a1e0b25.jpg'),\n",
              " PosixPath('/content/images/mainan slime/238_cf9bc1ea.jpg'),\n",
              " PosixPath('/content/images/mainan slime/239_bbf05357.jpg'),\n",
              " PosixPath('/content/images/mainan slime/240_589a53bd.jpg'),\n",
              " PosixPath('/content/images/mainan slime/241_b63c547f.jpg'),\n",
              " PosixPath('/content/images/mainan slime/242_c275ea52.jpg'),\n",
              " PosixPath('/content/images/mainan slime/243_4aee33c1.jpg'),\n",
              " PosixPath('/content/images/mainan slime/244_6eb91bef.jpg'),\n",
              " PosixPath('/content/images/mainan slime/245_4e1aa686.jpg'),\n",
              " PosixPath('/content/images/mainan slime/246_756265fe.jpg'),\n",
              " PosixPath('/content/images/mainan slime/247_258df0f2.jpg'),\n",
              " PosixPath('/content/images/mainan slime/248_882d3020.jpg'),\n",
              " PosixPath('/content/images/mainan slime/249_305954a7.jpg'),\n",
              " PosixPath('/content/images/mainan slime/250_4d7142b9.jpg'),\n",
              " PosixPath('/content/images/mainan slime/251_91f94eba.jpg'),\n",
              " PosixPath('/content/images/mainan slime/252_3f783ea8.jpg'),\n",
              " PosixPath('/content/images/mainan slime/253_abb90f7f.jpg'),\n",
              " PosixPath('/content/images/mainan slime/254_8a619b0e.jpg'),\n",
              " PosixPath('/content/images/mainan slime/255_b72e8f3d.jpg'),\n",
              " PosixPath('/content/images/mainan slime/256_c26758c7.jpg'),\n",
              " PosixPath('/content/images/mainan slime/257_5b182459.jpg'),\n",
              " PosixPath('/content/images/mainan slime/258_d8ae2226.jpg'),\n",
              " PosixPath('/content/images/mainan slime/259_3a89c34b.jpg'),\n",
              " PosixPath('/content/images/mainan slime/260_8d9abb75.jpg'),\n",
              " PosixPath('/content/images/mainan slime/261_e3c89ed2.jpg'),\n",
              " PosixPath('/content/images/mainan slime/262_fab4b366.jpg'),\n",
              " PosixPath('/content/images/mainan slime/263_fddfc3da.jpg'),\n",
              " PosixPath('/content/images/mainan slime/264_0b611281.jpg'),\n",
              " PosixPath('/content/images/mainan slime/265_7d047f2a.jpg'),\n",
              " PosixPath('/content/images/mainan slime/266_337fc324.jpg'),\n",
              " PosixPath('/content/images/mainan slime/267_4f730312.jpg'),\n",
              " PosixPath('/content/images/mainan slime/268_8d5baa88.jpg'),\n",
              " PosixPath('/content/images/mainan slime/269_2f2b13fb.jpg'),\n",
              " PosixPath('/content/images/mainan slime/270_344171b8.jpg'),\n",
              " PosixPath('/content/images/mainan slime/271_c1eaed5b.jpg'),\n",
              " PosixPath('/content/images/mainan slime/272_8f76be26.jpg'),\n",
              " PosixPath('/content/images/mainan slime/273_086ea927.jpg'),\n",
              " PosixPath('/content/images/mainan slime/274_7326457c.jpg'),\n",
              " PosixPath('/content/images/mainan slime/275_a8f35f16.jpg'),\n",
              " PosixPath('/content/images/mainan slime/276_d0466164.jpg'),\n",
              " PosixPath('/content/images/mainan slime/277_c3c701fe.jpg'),\n",
              " PosixPath('/content/images/mainan slime/278_295d46e8.jpg'),\n",
              " PosixPath('/content/images/mainan slime/279_9fcb6364.jpg'),\n",
              " PosixPath('/content/images/mainan slime/280_796d4408.jpg'),\n",
              " PosixPath('/content/images/mainan slime/281_589f7701.jpg'),\n",
              " PosixPath('/content/images/mainan slime/282_b3ef530d.jpg'),\n",
              " PosixPath('/content/images/mainan slime/283_26b6054c.jpg'),\n",
              " PosixPath('/content/images/mainan slime/284_bb6d7eca.jpg'),\n",
              " PosixPath('/content/images/mainan slime/285_fc8c35d8.jpg'),\n",
              " PosixPath('/content/images/mainan slime/286_19a97be4.jpg'),\n",
              " PosixPath('/content/images/mainan slime/287_e6a87d04.jpg'),\n",
              " PosixPath('/content/images/mainan slime/288_fd75dea0.jpg'),\n",
              " PosixPath('/content/images/mainan slime/289_a9f651bc.jpg'),\n",
              " PosixPath('/content/images/mainan slime/290_77e7023a.jpg'),\n",
              " PosixPath('/content/images/mainan slime/291_c8711c2e.jpg'),\n",
              " PosixPath('/content/images/mainan slime/292_a19e5018.jpg'),\n",
              " PosixPath('/content/images/mainan slime/293_841adf1a.jpg'),\n",
              " PosixPath('/content/images/mainan slime/294_78402c97.jpg'),\n",
              " PosixPath('/content/images/mainan slime/295_2a4a2138.jpg'),\n",
              " PosixPath('/content/images/mainan slime/296_98104a46.jpg'),\n",
              " PosixPath('/content/images/mainan slime/297_95f4e38e.jpg'),\n",
              " PosixPath('/content/images/mainan slime/298_ae66319a.jpg'),\n",
              " PosixPath('/content/images/mainan slime/299_f90f436d.jpg'),\n",
              " PosixPath('/content/images/mainan slime/300_9f323c68.jpg'),\n",
              " PosixPath('/content/images/mainan slime/301_e341abcd.jpg'),\n",
              " PosixPath('/content/images/mainan slime/302_1a5d7ba4.jpg'),\n",
              " PosixPath('/content/images/mainan slime/303_05ab7d46.jpg'),\n",
              " PosixPath('/content/images/mainan slime/304_08a9c4cd.jpg'),\n",
              " PosixPath('/content/images/mainan slime/305_7003e068.jpg'),\n",
              " PosixPath('/content/images/mainan slime/306_fa3d757d.jpg'),\n",
              " PosixPath('/content/images/mainan slime/307_c23814a9.jpg'),\n",
              " PosixPath('/content/images/mainan slime/308_57c51cb9.jpg'),\n",
              " PosixPath('/content/images/mainan slime/309_6169a4f3.jpg'),\n",
              " PosixPath('/content/images/mainan slime/310_13144524.jpg'),\n",
              " PosixPath('/content/images/mainan slime/311_5939b0e4.jpg'),\n",
              " PosixPath('/content/images/mainan slime/312_73664d09.jpg'),\n",
              " PosixPath('/content/images/mainan slime/313_6f5b0ff5.jpg'),\n",
              " PosixPath('/content/images/mainan slime/314_cc38ebc5.jpg'),\n",
              " PosixPath('/content/images/mainan slime/315_a4f4ca5b.jpg')]"
            ]
          },
          "execution_count": 2,
          "metadata": {},
          "output_type": "execute_result"
        }
      ],
      "source": [
        "from pathlib import Path\n",
        "root = Path().cwd()/\"images\"\n",
        "\n",
        "from jmd_imagescraper.core import * # dont't worry, it's designed to work with import *\n",
        "\n",
        "duckduckgo_search(root, \"mainan slime\", \"slime\", max_results=5000)\n",
        "# file paths are returned so if you want to snag a list of downloaded files as you go, do this:\n",
        "\n",
        "# images = []\n",
        "# images.extend(duckduckgo_search(root, \"Cats\", \"cute kittens\", max_results=10))\n",
        "# images.extend(duckduckgo_search(root, \"Dogs\", \"cute puppies\", max_results=10))\n",
        "# images.extend(duckduckgo_search(root, \"Birds\", \"cute baby ducks and chickens\", max_results=10))\n",
        "# images"
      ]
    },
    {
      "cell_type": "markdown",
      "metadata": {
        "id": "MMYX3LJ4MR4t"
      },
      "source": [
        "## Changing params across multiple searches"
      ]
    },
    {
      "cell_type": "code",
      "execution_count": null,
      "metadata": {
        "id": "8vw7K4ULGz-8"
      },
      "outputs": [],
      "source": [
        "# If you're going to override default params across multiple searches you can use a\n",
        "# dictionary like this (so you can change search params for the entire dataset once).\n",
        "\n",
        "params = {\n",
        "    \"max_results\": 10,             # this can go up to 477 at the time of writing\n",
        "    \"img_size\":    ImgSize.Cached,\n",
        "    \"img_type\":    ImgType.Photo,\n",
        "    \"img_layout\":  ImgLayout.Square,\n",
        "    \"img_color\":   ImgColor.Purple\n",
        "}\n",
        "\n",
        "duckduckgo_search(root, \"Nice\", \"nice clowns\", **params)\n",
        "duckduckgo_search(root, \"Scary\", \"scary clowns\", **params)"
      ]
    },
    {
      "cell_type": "markdown",
      "metadata": {
        "id": "wlqGB5jtNWgs"
      },
      "source": [
        "## Deleting all images"
      ]
    },
    {
      "cell_type": "code",
      "execution_count": null,
      "metadata": {
        "colab": {
          "base_uri": "https://localhost:8080/",
          "height": 236
        },
        "id": "3jSRRz9jNVi0",
        "outputId": "0e87b167-4dd2-4762-f288-0d597733dfa2"
      },
      "outputs": [
        {
          "ename": "NameError",
          "evalue": "ignored",
          "output_type": "error",
          "traceback": [
            "\u001b[0;31m---------------------------------------------------------------------------\u001b[0m",
            "\u001b[0;31mNameError\u001b[0m                                 Traceback (most recent call last)",
            "\u001b[0;32m<ipython-input-33-8d65aced429f>\u001b[0m in \u001b[0;36m<cell line: 2>\u001b[0;34m()\u001b[0m\n\u001b[1;32m      1\u001b[0m \u001b[0;31m# !rm -r images/mainan_lato\u001b[0m\u001b[0;34m\u001b[0m\u001b[0;34m\u001b[0m\u001b[0m\n\u001b[0;32m----> 2\u001b[0;31m \u001b[0mfolder_path\u001b[0m\u001b[0;34m=\u001b[0m \u001b[0mimages\u001b[0m\u001b[0;34m\u001b[0m\u001b[0;34m\u001b[0m\u001b[0m\n\u001b[0m\u001b[1;32m      3\u001b[0m \u001b[0mzip_file_name\u001b[0m \u001b[0;34m=\u001b[0m \u001b[0;34m'mainanV1.zip'\u001b[0m\u001b[0;34m\u001b[0m\u001b[0;34m\u001b[0m\u001b[0m\n\u001b[1;32m      4\u001b[0m \u001b[0mget_ipython\u001b[0m\u001b[0;34m(\u001b[0m\u001b[0;34m)\u001b[0m\u001b[0;34m.\u001b[0m\u001b[0msystem\u001b[0m\u001b[0;34m(\u001b[0m\u001b[0;34m'zip -r $zip_file_name $folder_path'\u001b[0m\u001b[0;34m)\u001b[0m\u001b[0;34m\u001b[0m\u001b[0;34m\u001b[0m\u001b[0m\n",
            "\u001b[0;31mNameError\u001b[0m: name 'images' is not defined"
          ]
        }
      ],
      "source": [
        "rmtree(root)"
      ]
    },
    {
      "cell_type": "markdown",
      "metadata": {
        "id": "W2IKoyz-NvFq"
      },
      "source": [
        "## Displaying the image cleaner\n",
        "\n",
        "Use this to get rid of unsuitable images without leaving your notebook"
      ]
    },
    {
      "cell_type": "code",
      "execution_count": null,
      "metadata": {
        "cellView": "code",
        "id": "ZWwjDsJDOGrO"
      },
      "outputs": [],
      "source": [
        "from jmd_imagescraper.imagecleaner import *\n",
        "\n",
        "display_image_cleaner(root)"
      ]
    },
    {
      "cell_type": "markdown",
      "metadata": {
        "id": "H6KTdjEY0Fix"
      },
      "source": [
        "## Create a zip to download or transfer to google drive"
      ]
    },
    {
      "cell_type": "code",
      "execution_count": null,
      "metadata": {
        "id": "O8CT2yVzfZXb"
      },
      "outputs": [],
      "source": [
        "# create zip\n",
        "\n",
        "ZIP_NAME = \"campurpart2.zip\" # maybe change this?\n",
        "\n",
        "!rm -f {ZIP_NAME}\n",
        "!zip -q -r {ZIP_NAME} {root}"
      ]
    },
    {
      "cell_type": "code",
      "execution_count": null,
      "metadata": {
        "colab": {
          "base_uri": "https://localhost:8080/",
          "height": 17
        },
        "id": "rmnndlPN1yTY",
        "outputId": "d3f85a8a-30a6-4704-f077-c184e5e62029"
      },
      "outputs": [
        {
          "data": {
            "application/javascript": [
              "\n",
              "    async function download(id, filename, size) {\n",
              "      if (!google.colab.kernel.accessAllowed) {\n",
              "        return;\n",
              "      }\n",
              "      const div = document.createElement('div');\n",
              "      const label = document.createElement('label');\n",
              "      label.textContent = `Downloading \"${filename}\": `;\n",
              "      div.appendChild(label);\n",
              "      const progress = document.createElement('progress');\n",
              "      progress.max = size;\n",
              "      div.appendChild(progress);\n",
              "      document.body.appendChild(div);\n",
              "\n",
              "      const buffers = [];\n",
              "      let downloaded = 0;\n",
              "\n",
              "      const channel = await google.colab.kernel.comms.open(id);\n",
              "      // Send a message to notify the kernel that we're ready.\n",
              "      channel.send({})\n",
              "\n",
              "      for await (const message of channel.messages) {\n",
              "        // Send a message to notify the kernel that we're ready.\n",
              "        channel.send({})\n",
              "        if (message.buffers) {\n",
              "          for (const buffer of message.buffers) {\n",
              "            buffers.push(buffer);\n",
              "            downloaded += buffer.byteLength;\n",
              "            progress.value = downloaded;\n",
              "          }\n",
              "        }\n",
              "      }\n",
              "      const blob = new Blob(buffers, {type: 'application/binary'});\n",
              "      const a = document.createElement('a');\n",
              "      a.href = window.URL.createObjectURL(blob);\n",
              "      a.download = filename;\n",
              "      div.appendChild(a);\n",
              "      a.click();\n",
              "      div.remove();\n",
              "    }\n",
              "  "
            ],
            "text/plain": [
              "<IPython.core.display.Javascript object>"
            ]
          },
          "metadata": {},
          "output_type": "display_data"
        },
        {
          "data": {
            "application/javascript": [
              "download(\"download_8065fb51-bc23-4e48-9239-8e67ebc57c51\", \"campurpart2.zip\", 144226005)"
            ],
            "text/plain": [
              "<IPython.core.display.Javascript object>"
            ]
          },
          "metadata": {},
          "output_type": "display_data"
        }
      ],
      "source": [
        "# download to your local system\n",
        "\n",
        "from google.colab import files\n",
        "files.download(ZIP_NAME)"
      ]
    },
    {
      "cell_type": "code",
      "execution_count": null,
      "metadata": {
        "id": "-BfkU4_u2kdp"
      },
      "outputs": [],
      "source": [
        "# copy to google drive\n",
        "\n",
        "from google.colab import drive\n",
        "import shutil\n",
        "\n",
        "DESTINATION_FOLDER = \"Datasets\" # where would you like this in Google Drive?\n",
        "\n",
        "drive.mount(\"/content/drive\")\n",
        "folder = Path(\"/content/drive/My Drive\")/DESTINATION_FOLDER\n",
        "folder.mkdir(parents=True, exist_ok=True)\n",
        "\n",
        "shutil.copyfile(ZIP_NAME, str(folder/ZIP_NAME))"
      ]
    },
    {
      "cell_type": "markdown",
      "metadata": {
        "id": "pvM0imifGwOY"
      },
      "source": [
        "## Create a CSV file of URLs\n",
        "\n",
        "If you'd rather distribute a file with the image URLs and labels and have people download the images themselves you can do so here."
      ]
    },
    {
      "cell_type": "code",
      "execution_count": null,
      "metadata": {
        "id": "Q_VQvB9KG0v-"
      },
      "outputs": [],
      "source": [
        "CSV_NAME = \"images.csv\" # maybe change this?\n",
        "\n",
        "!rm -f {CSV_NAME}\n",
        "\n",
        "csv = Path.cwd()/CSV_NAME\n",
        "save_urls_to_csv(csv, \"Nice\", \"nice clowns\", max_results=5)\n",
        "save_urls_to_csv(csv, \"Scary\", \"scary clowns\", max_results=5)"
      ]
    }
  ],
  "metadata": {
    "accelerator": "GPU",
    "colab": {
      "provenance": []
    },
    "kernelspec": {
      "display_name": "Python 3",
      "name": "python3"
    }
  },
  "nbformat": 4,
  "nbformat_minor": 0
}